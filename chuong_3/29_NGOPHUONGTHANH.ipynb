{
 "cells": [
  {
   "cell_type": "markdown",
   "id": "cf0b464c",
   "metadata": {},
   "source": [
    "Câu 1 "
   ]
  },
  {
   "cell_type": "code",
   "execution_count": 2,
   "id": "20f20ef2",
   "metadata": {},
   "outputs": [
    {
     "name": "stdout",
     "output_type": "stream",
     "text": [
      "Hệ số tương quan Pearson r_AB: 0.9999999999999999\n"
     ]
    }
   ],
   "source": [
    "import sqlite3\n",
    "import pandas as pd\n",
    "\n",
    "# Tạo kết nối SQLite trong bộ nhớ\n",
    "conn = sqlite3.connect(':memory:')\n",
    "cursor = conn.cursor()\n",
    "\n",
    "# Tạo bảng ví dụ\n",
    "cursor.execute('''\n",
    "CREATE TABLE my_table (\n",
    "    A REAL,\n",
    "    B REAL\n",
    ")\n",
    "''')\n",
    "\n",
    "# Chèn dữ liệu mẫu\n",
    "data = [\n",
    "    (1, 2),\n",
    "    (2, 4),\n",
    "    (3, 6),\n",
    "    (4, 8),\n",
    "    (5, 10)\n",
    "]\n",
    "cursor.executemany('INSERT INTO my_table (A, B) VALUES (?, ?)', data)\n",
    "conn.commit()\n",
    "\n",
    "query = '''\n",
    "SELECT \n",
    "    (COUNT(*) * SUM(A * B) - SUM(A) * SUM(B)) /\n",
    "    (SQRT(COUNT(*) * SUM(A * A) - SUM(A) * SUM(A)) * \n",
    "     SQRT(COUNT(*) * SUM(B * B) - SUM(B) * SUM(B))) AS pearson_r\n",
    "FROM my_table\n",
    "'''\n",
    "\n",
    "result = cursor.execute(query).fetchone()\n",
    "print(\"Hệ số tương quan Pearson r_AB:\", result[0])\n",
    "\n"
   ]
  },
  {
   "cell_type": "markdown",
   "id": "ea35d1a8",
   "metadata": {},
   "source": [
    "Câu 2 "
   ]
  },
  {
   "cell_type": "code",
   "execution_count": 3,
   "id": "e7f13417",
   "metadata": {},
   "outputs": [],
   "source": [
    "import sqlite3\n",
    "import pandas as pd\n",
    "from scipy.stats import chi2_contingency\n",
    "\n",
    "# Tạo kết nối SQLite trong bộ nhớ\n",
    "conn = sqlite3.connect(\":memory:\")\n",
    "cursor = conn.cursor()\n",
    "\n",
    "# Tạo bảng dữ liệu dạng quan hệ\n",
    "cursor.execute(\"\"\"\n",
    "CREATE TABLE car_scores (\n",
    "    Day TEXT,\n",
    "    CarModel TEXT,\n",
    "    Score REAL\n",
    ")\n",
    "\"\"\")\n",
    "\n",
    "# Dữ liệu\n",
    "data = [\n",
    "    ('Day 1', 'A', 8), ('Day 1', 'B', 9), ('Day 1', 'C', 7),\n",
    "    ('Day 2', 'A', 7.5), ('Day 2', 'B', 8.5), ('Day 2', 'C', 7),\n",
    "    ('Day 3', 'A', 6), ('Day 3', 'B', 7), ('Day 3', 'C', 8),\n",
    "    ('Day 4', 'A', 7), ('Day 4', 'B', 6), ('Day 4', 'C', 5),\n",
    "]\n",
    "cursor.executemany(\"INSERT INTO car_scores (Day, CarModel, Score) VALUES (?, ?, ?)\", data)\n",
    "conn.commit()\n"
   ]
  },
  {
   "cell_type": "code",
   "execution_count": 4,
   "id": "29c52dc0",
   "metadata": {},
   "outputs": [
    {
     "name": "stdout",
     "output_type": "stream",
     "text": [
      "      Day CarModel  Score ScoreGroup\n",
      "0   Day 1        A    8.0     Medium\n",
      "1   Day 1        B    9.0       High\n",
      "2   Day 1        C    7.0     Medium\n",
      "3   Day 2        A    7.5     Medium\n",
      "4   Day 2        B    8.5       High\n",
      "5   Day 2        C    7.0     Medium\n",
      "6   Day 3        A    6.0        Low\n",
      "7   Day 3        B    7.0     Medium\n",
      "8   Day 3        C    8.0     Medium\n",
      "9   Day 4        A    7.0     Medium\n",
      "10  Day 4        B    6.0        Low\n",
      "11  Day 4        C    5.0        Low\n"
     ]
    }
   ],
   "source": [
    "# Tạo bảng tạm có phân nhóm điểm (Low / Medium / High)\n",
    "query_grouped = \"\"\"\n",
    "SELECT\n",
    "    *,\n",
    "    CASE\n",
    "        WHEN Score <= 6.5 THEN 'Low'\n",
    "        WHEN Score <= 8 THEN 'Medium'\n",
    "        ELSE 'High'\n",
    "    END AS ScoreGroup\n",
    "FROM car_scores\n",
    "\"\"\"\n",
    "\n",
    "df_grouped = pd.read_sql_query(query_grouped, conn)\n",
    "print(df_grouped)\n"
   ]
  },
  {
   "cell_type": "code",
   "execution_count": 5,
   "id": "0bd10da5",
   "metadata": {},
   "outputs": [
    {
     "name": "stdout",
     "output_type": "stream",
     "text": [
      "Bảng tần số theo mẫu xe:\n",
      " ScoreGroup  High  Low  Medium\n",
      "CarModel                     \n",
      "A              0    1       3\n",
      "B              2    1       1\n",
      "C              0    1       3\n",
      "\n",
      "[Kết quả kiểm định theo mẫu xe]\n",
      "Chi-squared = 5.1429, p-value = 0.2730\n"
     ]
    }
   ],
   "source": [
    "# Bảng chéo giữa CarModel và ScoreGroup\n",
    "ct_model = pd.crosstab(df_grouped['CarModel'], df_grouped['ScoreGroup'])\n",
    "print(\"Bảng tần số theo mẫu xe:\\n\", ct_model)\n",
    "\n",
    "# Kiểm định chi bình phương\n",
    "chi2_model, p_model, dof_model, _ = chi2_contingency(ct_model)\n",
    "print(\"\\n[Kết quả kiểm định theo mẫu xe]\")\n",
    "print(f\"Chi-squared = {chi2_model:.4f}, p-value = {p_model:.4f}\")\n"
   ]
  },
  {
   "cell_type": "code",
   "execution_count": 6,
   "id": "db9514d7",
   "metadata": {},
   "outputs": [
    {
     "name": "stdout",
     "output_type": "stream",
     "text": [
      "\n",
      "Bảng tần số theo ngày:\n",
      " ScoreGroup  High  Low  Medium\n",
      "Day                          \n",
      "Day 1          1    0       2\n",
      "Day 2          1    0       2\n",
      "Day 3          0    1       2\n",
      "Day 4          0    2       1\n",
      "\n",
      "[Kết quả kiểm định theo ngày]\n",
      "Chi-squared = 6.0952, p-value = 0.4126\n"
     ]
    }
   ],
   "source": [
    "# Bảng chéo giữa Day và ScoreGroup\n",
    "ct_day = pd.crosstab(df_grouped['Day'], df_grouped['ScoreGroup'])\n",
    "print(\"\\nBảng tần số theo ngày:\\n\", ct_day)\n",
    "\n",
    "# Kiểm định chi bình phương\n",
    "chi2_day, p_day, dof_day, _ = chi2_contingency(ct_day)\n",
    "print(\"\\n[Kết quả kiểm định theo ngày]\")\n",
    "print(f\"Chi-squared = {chi2_day:.4f}, p-value = {p_day:.4f}\")\n"
   ]
  },
  {
   "cell_type": "markdown",
   "id": "3f7ca2e0",
   "metadata": {},
   "source": [
    "Câu 3 "
   ]
  },
  {
   "cell_type": "code",
   "execution_count": 7,
   "id": "325ca1c5",
   "metadata": {},
   "outputs": [],
   "source": [
    "import sqlite3\n",
    "import pandas as pd\n",
    "\n",
    "# Tạo kết nối SQLite\n",
    "conn = sqlite3.connect(\":memory:\")\n",
    "cursor = conn.cursor()\n",
    "\n",
    "# Tạo bảng flights\n",
    "cursor.execute(\"\"\"\n",
    "CREATE TABLE flights (\n",
    "    id INTEGER PRIMARY KEY,\n",
    "    departure_time INTEGER\n",
    ")\n",
    "\"\"\")\n",
    "\n",
    "# Thêm dữ liệu mẫu\n",
    "data = [(1, 830), (2, 1445), (3, 5), (4, 0), (5, 123)]\n",
    "cursor.executemany(\"INSERT INTO flights (id, departure_time) VALUES (?, ?)\", data)\n",
    "conn.commit()\n"
   ]
  },
  {
   "cell_type": "code",
   "execution_count": 8,
   "id": "fcaaeed1",
   "metadata": {},
   "outputs": [
    {
     "name": "stdout",
     "output_type": "stream",
     "text": [
      "   id  departure_time departure_time_formatted\n",
      "0   1             830                    08:30\n",
      "1   2            1445                    14:45\n",
      "2   3               5                    00:05\n",
      "3   4               0                    00:00\n",
      "4   5             123                    01:23\n"
     ]
    }
   ],
   "source": [
    "query = \"\"\"\n",
    "SELECT \n",
    "    id,\n",
    "    departure_time,\n",
    "    printf('%02d:%02d', departure_time / 100, departure_time % 100) AS departure_time_formatted\n",
    "FROM flights\n",
    "\"\"\"\n",
    "df = pd.read_sql_query(query, conn)\n",
    "print(df)\n"
   ]
  },
  {
   "cell_type": "markdown",
   "id": "add3efaf",
   "metadata": {},
   "source": [
    "Câu 4 "
   ]
  },
  {
   "cell_type": "code",
   "execution_count": 9,
   "id": "375397e4",
   "metadata": {},
   "outputs": [],
   "source": [
    "import sqlite3\n",
    "import pandas as pd\n",
    "import numpy as np\n",
    "\n",
    "# Tạo kết nối SQLite\n",
    "conn = sqlite3.connect(':memory:')\n",
    "cursor = conn.cursor()\n",
    "\n",
    "# Tạo bảng có cột value\n",
    "cursor.execute(\"\"\"\n",
    "CREATE TABLE data (\n",
    "    id INTEGER PRIMARY KEY,\n",
    "    value REAL\n",
    ")\n",
    "\"\"\")\n",
    "\n",
    "# Dữ liệu có vài ngoại lệ\n",
    "data = [(1, 10), (2, 12), (3, 11), (4, 10), (5, 300), (6, 9), (7, 10), (8, 11), (9, 305)]\n",
    "cursor.executemany(\"INSERT INTO data (id, value) VALUES (?, ?)\", data)\n",
    "conn.commit()\n"
   ]
  },
  {
   "cell_type": "code",
   "execution_count": 10,
   "id": "1102b808",
   "metadata": {},
   "outputs": [
    {
     "name": "stdout",
     "output_type": "stream",
     "text": [
      "Median = 11.0, MAD = 1.0, Threshold = 1.5\n"
     ]
    }
   ],
   "source": [
    "# Lấy dữ liệu\n",
    "df = pd.read_sql_query(\"SELECT * FROM data\", conn)\n",
    "\n",
    "# Tính median\n",
    "median = df['value'].median()\n",
    "\n",
    "# Tính MAD\n",
    "mad = (df['value'] - median).abs().median()\n",
    "\n",
    "# Ngưỡng: 1.5 * MAD\n",
    "threshold = 1.5 * mad\n",
    "print(f\"Median = {median}, MAD = {mad}, Threshold = {threshold}\")\n"
   ]
  },
  {
   "cell_type": "code",
   "execution_count": 11,
   "id": "1cfb3d39",
   "metadata": {},
   "outputs": [
    {
     "name": "stdout",
     "output_type": "stream",
     "text": [
      "   id  value  deviation_from_median\n",
      "0   5  300.0                  289.0\n",
      "1   6    9.0                    2.0\n",
      "2   9  305.0                  294.0\n"
     ]
    }
   ],
   "source": [
    "query = f\"\"\"\n",
    "SELECT *,\n",
    "       ABS(value - {median}) AS deviation_from_median\n",
    "FROM data\n",
    "WHERE ABS(value - {median}) > {threshold}\n",
    "\"\"\"\n",
    "\n",
    "outliers = pd.read_sql_query(query, conn)\n",
    "print(outliers)\n"
   ]
  },
  {
   "cell_type": "markdown",
   "id": "28705d26",
   "metadata": {},
   "source": [
    "Câu 5 "
   ]
  },
  {
   "cell_type": "code",
   "execution_count": null,
   "id": "8a967960",
   "metadata": {},
   "outputs": [],
   "source": [
    "import sqlite3\n",
    "import pandas as pd\n",
    "\n",
    "# Tạo kết nối SQLite\n",
    "conn = sqlite3.connect(':memory:')\n",
    "cursor = conn.cursor()\n",
    "\n",
    "# Tạo bảng bệnh nhân\n",
    "cursor.execute(\"\"\"\n",
    "CREATE TABLE Patient (\n",
    "    id INTEGER PRIMARY KEY,\n",
    "    last_name TEXT,\n",
    "    weight REAL,\n",
    "    height REAL\n",
    ")\n",
    "\"\"\")\n",
    "\n",
    "# Thêm dữ liệu mẫu\n",
    "data = [\n",
    "    (1, 'Ngo ', 80 , 170),\n",
    "    (2, 'Ngo', 80.2, 170),\n",
    "    (3, 'Tran', 55, 165),\n",
    "    (4, 'Ngo', 65, 170),\n",
    "    (5, 'Le', 60, 170)\n",
    "]\n",
    "cursor.executemany(\"INSERT INTO Patient (id, last_name, weight, height) VALUES (?, ?, ?, ?)\", data)\n",
    "conn.commit()\n"
   ]
  },
  {
   "cell_type": "code",
   "execution_count": 14,
   "id": "4a7fccb2",
   "metadata": {},
   "outputs": [
    {
     "name": "stdout",
     "output_type": "stream",
     "text": [
      "   id1  id2 last_name  weight1  weight2  weight_diff  is_same_person\n",
      "0    1    2      Ngo      80.0     80.2          0.2               0\n",
      "1    1    3      Ngo      80.0     55.0         25.0               0\n",
      "2    1    4      Ngo      80.0     65.0         15.0               0\n",
      "3    1    5      Ngo      80.0     60.0         20.0               0\n",
      "4    2    3       Ngo     80.2     55.0         25.2               0\n",
      "5    2    4       Ngo     80.2     65.0         15.2               0\n",
      "6    2    5       Ngo     80.2     60.0         20.2               0\n",
      "7    3    4      Tran     55.0     65.0         10.0               0\n",
      "8    3    5      Tran     55.0     60.0          5.0               0\n",
      "9    4    5    Nguyen     65.0     60.0          5.0               0\n"
     ]
    }
   ],
   "source": [
    "query = \"\"\"\n",
    "SELECT \n",
    "    p1.id AS id1,\n",
    "    p2.id AS id2,\n",
    "    p1.last_name,\n",
    "    p1.weight AS weight1,\n",
    "    p2.weight AS weight2,\n",
    "    ABS(p1.weight - p2.weight) AS weight_diff,\n",
    "    CASE\n",
    "        WHEN p1.last_name = p2.last_name AND ABS(p1.weight - p2.weight) <= 0.5 THEN 1\n",
    "        ELSE 0\n",
    "    END AS is_same_person\n",
    "FROM Patient p1\n",
    "JOIN Patient p2 ON p1.id < p2.id\n",
    "\"\"\"\n",
    "df = pd.read_sql_query(query, conn)\n",
    "print(df)\n"
   ]
  }
 ],
 "metadata": {
  "kernelspec": {
   "display_name": "Python 3",
   "language": "python",
   "name": "python3"
  },
  "language_info": {
   "codemirror_mode": {
    "name": "ipython",
    "version": 3
   },
   "file_extension": ".py",
   "mimetype": "text/x-python",
   "name": "python",
   "nbconvert_exporter": "python",
   "pygments_lexer": "ipython3",
   "version": "3.12.0"
  }
 },
 "nbformat": 4,
 "nbformat_minor": 5
}
